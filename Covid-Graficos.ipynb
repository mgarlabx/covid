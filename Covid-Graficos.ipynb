{
 "cells": [
  {
   "cell_type": "markdown",
   "metadata": {},
   "source": [
    "# Relatório diário Covid-19\n",
    "Script para acessar bases de dados, processar, calcular médias e elaborar gráficos\n",
    "\n",
    "Maurício Garcia, janeiro 2021"
   ]
  },
  {
   "cell_type": "markdown",
   "metadata": {},
   "source": [
    "## Bibliotecas / frameworks"
   ]
  },
  {
   "cell_type": "code",
   "execution_count": null,
   "metadata": {},
   "outputs": [],
   "source": [
    "# Gerais\n",
    "import pandas as pd\n",
    "import numpy as np\n",
    "\n",
    "# Manipulação de arquivos e pastas\n",
    "import shutil\n",
    "from pathlib import Path\n",
    "\n",
    "# Datas\n",
    "import datetime\n",
    "from datetime import date\n",
    "from datetime import datetime\n",
    "\n",
    "# Elaboração dos gráficos\n",
    "# https://matplotlib.org/api/pyplot_api.html\n",
    "import matplotlib.pyplot as plt\n",
    "import matplotlib.ticker as plticker\n",
    "from matplotlib.font_manager import FontProperties\n",
    "\n",
    "# Manipulação das imagens\n",
    "# https://pillow.readthedocs.io/\n",
    "from PIL import Image\n",
    "from PIL import ImageFont\n",
    "from PIL import ImageDraw "
   ]
  },
  {
   "cell_type": "code",
   "execution_count": null,
   "metadata": {},
   "outputs": [],
   "source": [
    "# Configurações\n",
    "pd.set_option('display.max_columns', None) # mostra todas colunas"
   ]
  },
  {
   "cell_type": "markdown",
   "metadata": {},
   "source": [
    "# 1. Dados do Brasil\n",
    "\n",
    "Baixar o arquivo CSV do site do Ministério da Saúde  \n",
    "https://covid.saude.gov.br/  \n",
    "Clicar em \"Arquivo CSV\" na parte superior direita da tela"
   ]
  },
  {
   "cell_type": "code",
   "execution_count": null,
   "metadata": {},
   "outputs": [],
   "source": [
    "# Alterar essas pastas conforme desejado\n",
    "pasta_origem = '/Users/iMacMgar/Downloads/' # pasta onde será baixado\n",
    "pasta_destino = '/Users/iMacMgar/Dropbox/DEV/_Python/covid/_dados/' # pasta onde será processado"
   ]
  },
  {
   "cell_type": "code",
   "execution_count": null,
   "metadata": {},
   "outputs": [],
   "source": [
    "# Essa rotina prepara o nome do arquivo baixado com a data de hoje no seguinte padrão:\n",
    "# HIST_PAINEL_COVIDBR_05jan2021.csv\n",
    "# Esse é o padrão do nome do arquivo gerado pelo Ministério da Saúde\n",
    "\n",
    "ano = date.today().year\n",
    "ano = str(ano)\n",
    "\n",
    "meses = ['jan', 'fev', 'mar', 'abr', 'mai', 'jun', 'jul', 'ago', 'set', 'out', 'nov', 'dez']\n",
    "mes = date.today().month\n",
    "mes = meses[mes-1]\n",
    "    \n",
    "dia = date.today().day\n",
    "dia = '0' + str(dia)\n",
    "dia = dia[-2:]\n",
    "\n",
    "arquivo = 'HIST_PAINEL_COVIDBR_' + dia + mes + ano + '.csv'"
   ]
  },
  {
   "cell_type": "code",
   "execution_count": null,
   "metadata": {},
   "outputs": [],
   "source": [
    "# Move o arquivo baixado para a pasta de trabalho\n",
    "now = datetime.now().strftime(\"%Y%m%d%H%M%S\")\n",
    "if Path(pasta_origem + arquivo).is_file():\n",
    "    if Path(pasta_destino + 'DadosMS.csv').is_file(): # Faz backup de arquivo se existir\n",
    "        shutil.move(pasta_destino + 'DadosMS.csv', pasta_destino + 'DadosMS_' + now +'.csv')\n",
    "    shutil.move(pasta_origem + arquivo, pasta_destino + 'DadosMS.csv')"
   ]
  },
  {
   "cell_type": "code",
   "execution_count": null,
   "metadata": {},
   "outputs": [],
   "source": [
    "# Abre o arquivo baixado\n",
    "df = pd.read_csv(pasta_destino + 'DadosMS.csv', delimiter=\";\")"
   ]
  },
  {
   "cell_type": "code",
   "execution_count": null,
   "metadata": {},
   "outputs": [],
   "source": [
    "# Array com estados\n",
    "ufs = ['AC', 'AL', 'AM', 'AP', 'BA', \n",
    "       'CE', 'DF', 'ES', 'GO', 'MA', \n",
    "       'MG', 'MS', 'MT', 'PA', 'PB', \n",
    "       'PE', 'PI', 'PR', 'RJ', 'RN', \n",
    "       'RO', 'RR', 'RS', 'SC', 'SE', \n",
    "       'SP', 'TO']\n",
    "\n",
    "# População dos estados\n",
    "ufspop = [881935, 3337357, 4144597, 845731, 14873064, \n",
    "          9132078, 3015268, 4018650, 7018354, 7075181, \n",
    "          21168791, 2778986, 3484466, 8602865, 4018127, \n",
    "          9557071, 3273227, 11433957, 17264943, 3506853, \n",
    "          1777225, 605761, 11377239, 7164788, 2298696, \n",
    "          45919049, 1572866]"
   ]
  },
  {
   "cell_type": "markdown",
   "metadata": {},
   "source": [
    "## 1.1. Casos e óbitos nacionais"
   ]
  },
  {
   "cell_type": "code",
   "execution_count": null,
   "metadata": {},
   "outputs": [],
   "source": [
    "# Filtra apenas dados do Brasil\n",
    "df1 = df[df['regiao'] == 'Brasil'].copy()"
   ]
  },
  {
   "cell_type": "code",
   "execution_count": null,
   "metadata": {},
   "outputs": [],
   "source": [
    "# Calcula médias móveis\n",
    "df1['BRcasos'] = df1['casosNovos'].rolling(window=7).mean()\n",
    "df1['BRobitos'] = df1['obitosNovos'].rolling(window=7).mean()"
   ]
  },
  {
   "cell_type": "code",
   "execution_count": null,
   "metadata": {},
   "outputs": [],
   "source": [
    "# Exibe dados dos últimos 8 dias\n",
    "df1[['data', 'casosNovos', 'casosAcumulado', 'BRcasos', 'obitosNovos', 'obitosAcumulado', 'BRobitos']].tail(8)"
   ]
  },
  {
   "cell_type": "code",
   "execution_count": null,
   "metadata": {},
   "outputs": [],
   "source": [
    "# Valores acumulados\n",
    "obitos_br_acumulado = df1['obitosAcumulado'].tail(1).values[0]\n",
    "casos_br_acumulado = df1['casosAcumulado'].tail(1).values[0]"
   ]
  },
  {
   "cell_type": "code",
   "execution_count": null,
   "metadata": {},
   "outputs": [],
   "source": [
    "# Seleciona colunas e troca nulos por zero\n",
    "df1 = df1[['data', 'BRcasos', 'BRobitos']].fillna(0)"
   ]
  },
  {
   "cell_type": "code",
   "execution_count": null,
   "metadata": {},
   "outputs": [],
   "source": [
    "# Tabelão final, será usado na elaboração dos gráficos\n",
    "dffull = df1"
   ]
  },
  {
   "cell_type": "markdown",
   "metadata": {},
   "source": [
    "## 1.2 Óbitos por estado"
   ]
  },
  {
   "cell_type": "code",
   "execution_count": null,
   "metadata": {},
   "outputs": [],
   "source": [
    "# Filtra apenas dados dos estados\n",
    "df1 = df[[ 'municipio', 'codmun', 'data', 'estado', 'obitosNovos']].copy()\n",
    "df1 = df1[df1['municipio'].isnull()]\n",
    "df1 = df1[df1['codmun'].isnull()]\n",
    "df1 = df1[df1['estado'].notnull()]\n",
    "df1 = df1.drop(columns=['municipio'])\n",
    "df1 = df1.drop(columns=['codmun'])\n",
    "df1 = df1.sort_values(by=['estado'])\n",
    "df1 = df1.sort_values(by=['estado', 'data'])\n",
    "df1 = df1.reset_index()\n",
    "df1 = df1.drop(columns=['index'])"
   ]
  },
  {
   "cell_type": "code",
   "execution_count": null,
   "metadata": {},
   "outputs": [],
   "source": [
    "# Salva óbitos acumulados no estado\n",
    "SPest_obitos = df1[df1['estado'] == 'SP']['obitosNovos'].sum()\n",
    "RJest_obitos = df1[df1['estado'] == 'RJ']['obitosNovos'].sum()"
   ]
  },
  {
   "cell_type": "code",
   "execution_count": null,
   "metadata": {},
   "outputs": [],
   "source": [
    "# Faz o pivo de óbitos por estado\n",
    "pt = pd.pivot_table(df1, \n",
    "    index=['data'], #row\n",
    "    columns=['estado'], #columns\n",
    "    values=['obitosNovos']\n",
    ")"
   ]
  },
  {
   "cell_type": "code",
   "execution_count": null,
   "metadata": {},
   "outputs": [],
   "source": [
    "# Ajusta colunas, deixando com apenas uma linha\n",
    "pt.columns = pt.columns.get_level_values(1)"
   ]
  },
  {
   "cell_type": "code",
   "execution_count": null,
   "metadata": {},
   "outputs": [],
   "source": [
    "# Calcula a média móvel por estado\n",
    "pt1 = pt.copy()\n",
    "for uf in ufs:\n",
    "    pt1[uf] = pt1[uf].rolling(window=7).mean().fillna(0)"
   ]
  },
  {
   "cell_type": "code",
   "execution_count": null,
   "metadata": {},
   "outputs": [],
   "source": [
    "# Tabela final\n",
    "dffull = pd.merge(dffull, pt1, on=['data'])"
   ]
  },
  {
   "cell_type": "code",
   "execution_count": null,
   "metadata": {},
   "outputs": [],
   "source": [
    "# Calcula e mostra a diferença nos dois últimos dias\n",
    "pt1 = pt1.tail(2).transpose()\n",
    "pt1['dif'] = pt1.iloc[:, 1] - pt1.iloc[:, 0]\n",
    "pt1 = pt1.sort_values(by=['dif'])\n",
    "pt1 = pt1.transpose()\n",
    "pt1.tail(1).transpose()"
   ]
  },
  {
   "cell_type": "code",
   "execution_count": null,
   "metadata": {},
   "outputs": [],
   "source": [
    "# Exibe óbitos de hoje (para verificar zerados e/ou excessos)\n",
    "pt2 = pt.tail(1).transpose()\n",
    "pt2.sort_values(by=pt2.columns[0])"
   ]
  },
  {
   "cell_type": "markdown",
   "metadata": {},
   "source": [
    "## 1.3. Óbitos SP e RJ Cidade"
   ]
  },
  {
   "cell_type": "code",
   "execution_count": null,
   "metadata": {},
   "outputs": [],
   "source": [
    "# Dados de SP\n",
    "municipio = 'São Paulo'\n",
    "estado = 'SP'\n",
    "df1 = df[df['municipio']==municipio]\n",
    "df1 = df1[df1['estado']==estado]\n",
    "SPcid_obitos = df1['obitosAcumulado'].tail(1).values[0]\n",
    "df1 = df1[['data', 'obitosNovos']]\n",
    "df1['SPcid'] = df1['obitosNovos'].rolling(window=7).mean().fillna(0)\n",
    "df1 = df1[['data', 'SPcid']]"
   ]
  },
  {
   "cell_type": "code",
   "execution_count": null,
   "metadata": {},
   "outputs": [],
   "source": [
    "# Tabelão final, será usado na elaboração dos gráficos\n",
    "dffull = pd.merge(dffull, df1, on=['data'])"
   ]
  },
  {
   "cell_type": "code",
   "execution_count": null,
   "metadata": {},
   "outputs": [],
   "source": [
    "# Dados do RJ\n",
    "municipio = 'Rio de Janeiro'\n",
    "estado = 'RJ'\n",
    "df1 = df[df['municipio']==municipio]\n",
    "df1 = df1[df1['estado']==estado]\n",
    "RJcid_obitos = df1['obitosAcumulado'].tail(1).values[0]\n",
    "df1 = df1[['data', 'obitosNovos']]\n",
    "df1['RJcid'] = df1['obitosNovos'].rolling(window=7).mean().fillna(0)\n",
    "df1 = df1[['data', 'RJcid']]"
   ]
  },
  {
   "cell_type": "code",
   "execution_count": null,
   "metadata": {},
   "outputs": [],
   "source": [
    "# Tabelão final, será usado na elaboração dos gráficos\n",
    "dffull = pd.merge(dffull, df1, on=['data'])"
   ]
  },
  {
   "cell_type": "code",
   "execution_count": null,
   "metadata": {},
   "outputs": [],
   "source": [
    "# Interior\n",
    "dffull['SPint'] = dffull['SP'] - dffull['SPcid']\n",
    "dffull['RJint'] = dffull['RJ'] - dffull['RJcid']"
   ]
  },
  {
   "cell_type": "code",
   "execution_count": null,
   "metadata": {},
   "outputs": [],
   "source": [
    "# Exibe dados dos últimos 8 dias\n",
    "dffull[['data', 'SPcid', 'SPint', 'RJcid', 'RJint']].tail(8)"
   ]
  },
  {
   "cell_type": "code",
   "execution_count": null,
   "metadata": {},
   "outputs": [],
   "source": [
    "# Gera data no formato dd/mm\n",
    "dffull['data_m'] = dffull['data'].str[-2:] + '/' + dffull['data'].str[5:7]"
   ]
  },
  {
   "cell_type": "markdown",
   "metadata": {},
   "source": [
    "## 1.4. Hospitais SP"
   ]
  },
  {
   "cell_type": "code",
   "execution_count": null,
   "metadata": {},
   "outputs": [],
   "source": [
    "# Esses dados são obtidos manualmente, diariamente (!!!) \n",
    "# Dados da Cidade de SP: https://www.prefeitura.sp.gov.br/cidade/secretarias/saude/vigilancia_em_saude/doencas_e_agravos/coronavirus/index.php?p=295572\n",
    "# Dados do Estado de SP: https://www.saopaulo.sp.gov.br/spnoticias/orgaos-governamentais/secretaria-da-saude/\n",
    "# Depois de acessados, devem ser lançados na planilha abaixo\n",
    "\n",
    "dfHosp = pd.read_excel('_dados/HospitaisSP.xlsx')"
   ]
  },
  {
   "cell_type": "code",
   "execution_count": null,
   "metadata": {},
   "outputs": [],
   "source": [
    "# Calcula média móvel\n",
    "for c in dfHosp.columns:\n",
    "    if (c != 'data'):\n",
    "        dfHosp[c] = dfHosp[c].rolling(window=7).mean().fillna(0)"
   ]
  },
  {
   "cell_type": "code",
   "execution_count": null,
   "metadata": {},
   "outputs": [],
   "source": [
    "# Data no formato dd/mm\n",
    "dfHosp['data'] = dfHosp['data'].astype(str)\n",
    "dfHosp['data_m'] = dfHosp['data'].str[-2:] + '/' + dfHosp['data'].str[5:7]"
   ]
  },
  {
   "cell_type": "code",
   "execution_count": null,
   "metadata": {},
   "outputs": [],
   "source": [
    "# Exibe dados dos últimos 8 dias\n",
    "dfHosp.tail(8)"
   ]
  },
  {
   "cell_type": "markdown",
   "metadata": {},
   "source": [
    "# 2. Dados internacionais"
   ]
  },
  {
   "cell_type": "code",
   "execution_count": null,
   "metadata": {},
   "outputs": [],
   "source": [
    "# Fonte: https://github.com/owid/covid-19-data/tree/master/public/data\n",
    "# Não precisa baixar, o script acessa diretamente no site\n",
    "\n",
    "url = 'https://github.com/owid/covid-19-data/raw/master/public/data/owid-covid-data.csv'\n",
    "df2 = pd.read_csv(url)"
   ]
  },
  {
   "cell_type": "code",
   "execution_count": null,
   "metadata": {},
   "outputs": [],
   "source": [
    "# Países selecionados. Se houver interesse em outros países, basta acrescentar no array abaixo\n",
    "# Sempre usar o nome do país em inglês\n",
    "paises = [\n",
    "    \n",
    "    'Sweden',\n",
    "    'Spain',\n",
    "    'United Kingdom',\n",
    "    'France',\n",
    "    'Italy',\n",
    "    'Germany',\n",
    "    'Switzerland',\n",
    "    'Portugal',\n",
    "    'Russia',\n",
    "    \n",
    "    'India',\n",
    "    'Japan',\n",
    "    'South Korea',\n",
    "    'Israel',\n",
    "    'Bahrain',\n",
    "    'United Arab Emirates',\n",
    "    \n",
    "    'Australia',\n",
    "    'New Zealand',\n",
    "    \n",
    "    'South Africa',\n",
    "    'Egypt',\n",
    "    'Morocco',\n",
    "    'Tunisia',\n",
    "    'Nigeria',\n",
    "    'Kenya',\n",
    "    \n",
    "    'United States',\n",
    "    'Canada',\n",
    "    'Mexico',\n",
    "    'Peru',\n",
    "    'Chile',\n",
    "    'Argentina',\n",
    "    'Uruguay'\n",
    "]"
   ]
  },
  {
   "cell_type": "code",
   "execution_count": null,
   "metadata": {},
   "outputs": [],
   "source": [
    "# Tabelão final, será usado na elaboração dos gráficos\n",
    "dffull2 = df2[df2['location'] == 'World'][['date']].copy()"
   ]
  },
  {
   "cell_type": "code",
   "execution_count": null,
   "metadata": {},
   "outputs": [],
   "source": [
    "# Média móvel de óbitos\n",
    "for pais in paises:\n",
    "    df1 = df2[df2['location'] == pais][['date','new_deaths']].copy()\n",
    "    df1[pais] = df1['new_deaths'].rolling(window=7).mean().fillna(0)\n",
    "    df1 = df1[['date',pais]]\n",
    "    dffull2 = pd.merge(dffull2, df1, on=['date'])   "
   ]
  },
  {
   "cell_type": "code",
   "execution_count": null,
   "metadata": {},
   "outputs": [],
   "source": [
    "# Dados sobre vacinação\n",
    "vac = df2[['date', 'location', 'total_vaccinations_per_hundred']] \n",
    "vac = vac[vac['total_vaccinations_per_hundred'] > 0 ]\n",
    "vac = vac.drop_duplicates(subset=['location'], keep='last')\n",
    "vac = vac.sort_values(by=['total_vaccinations_per_hundred'], ascending=True)"
   ]
  },
  {
   "cell_type": "markdown",
   "metadata": {},
   "source": [
    "# 3. Gráficos\n",
    "Até esse ponto, todos os dados foram baixados e estão praticamente prontos  \n",
    "para serem exibidos nos gráficos, que serão construídos a seguir.  \n",
    "- Para a elaboração dos gráficos é usada a biblioteca Matplotlib Pyplot (plt)  \n",
    "https://matplotlib.org/api/pyplot_api.html  \n",
    "  \n",
    "  \n",
    "- Para a manipulação das imagens é usada a biblioteca Pillow (PIL)  \n",
    "https://pillow.readthedocs.io/"
   ]
  },
  {
   "cell_type": "code",
   "execution_count": null,
   "metadata": {},
   "outputs": [],
   "source": [
    "# Função de uso geral, para criar a imagem base de todos os gráficos\n",
    "def new_image(titulo, subtitulo):\n",
    "    # imagem de fundo\n",
    "    image = Image.new('RGB', (4500, 4500), (256, 256, 256))\n",
    "    # título e subtítulo\n",
    "    font = ImageFont.truetype('Arial Bold.ttf', 120)\n",
    "    ImageDraw.Draw(image).text((150, 100), titulo, font=font, fill=(72, 63, 137))\n",
    "    font = ImageFont.truetype('Arial.ttf', 80)\n",
    "    ImageDraw.Draw(image).text((150, 250), subtitulo, font=font, fill=(72, 63, 137))\n",
    "    # data\n",
    "    data = date.today().strftime('%d/%m/%Y')\n",
    "    font = ImageFont.truetype('Arial.ttf', 80)\n",
    "    ImageDraw.Draw(image).text((4000, 150), data, font=font, fill=(72, 63, 137))\n",
    "    # Maurício\n",
    "    cubo = Image.open('_dados/cuboW.png')\n",
    "    image.paste(cubo, (150,4350))\n",
    "    font = ImageFont.truetype('Arial.ttf', 60)\n",
    "    ImageDraw.Draw(image).text((250, 4360), 'Maurício Garcia', font=font, fill=(72, 63, 137))\n",
    "    return image"
   ]
  },
  {
   "cell_type": "markdown",
   "metadata": {},
   "source": [
    "## 3.1. Brasil geral"
   ]
  },
  {
   "cell_type": "code",
   "execution_count": null,
   "metadata": {},
   "outputs": [],
   "source": [
    "# Função para gerar gráficos\n",
    "def grafico_br(x, y, cor, arquivo, esp):\n",
    "    \n",
    "    fig, ax = plt.subplots(figsize=(55, 20)) # cria a figura, cada ponto = 90 pixels - com dpi=90 - vide abaixo\n",
    "    \n",
    "    plt.fill_between( x, y, color=cor, alpha=0.1) # preenche a área sob o gráfico\n",
    "    ax.tick_params(axis='both', which='major', labelsize=50) # labelsize = tamanho da fonte dos eixos x e y\n",
    "    plt.box(on=None) # remove a caixa ao redor do gráfico\n",
    "    ax.xaxis.set_major_locator(plticker.MultipleLocator(base=30)) # define o espaçamento do eixo x (horizontal)\n",
    "    ax.yaxis.set_major_locator(plticker.MultipleLocator(base=esp)) # define o espaçamento do eixo y (vertical)\n",
    "    ax.yaxis.grid() # acrescenta grid - linhas horizontais\n",
    "    \n",
    "    plt.plot(x, y, linewidth=30, color=cor, marker='o', mfc='white', ms='18') #plota o gráfico\n",
    "    \n",
    "    plt.savefig('_imagens/' + arquivo, dpi=90) # salva o arquivo\n",
    "\n",
    "    plt.close(fig) # fecha o gráfico\n",
    "    \n",
    "    # crop da imagem\n",
    "    image = Image.open('_imagens/' + arquivo)\n",
    "    image = image.crop((380, 210, 4350, 1650))\n",
    "    image.save('_imagens/' + arquivo)\n",
    "    "
   ]
  },
  {
   "cell_type": "code",
   "execution_count": null,
   "metadata": {},
   "outputs": [],
   "source": []
  },
  {
   "cell_type": "code",
   "execution_count": null,
   "metadata": {},
   "outputs": [],
   "source": [
    "# Gera gráfico de óbitos\n",
    "x = dffull['data_m'].values\n",
    "y = dffull['BRobitos'].values\n",
    "grafico_br(x, y, 'blue', 'BrasilOb.png', 100)"
   ]
  },
  {
   "cell_type": "code",
   "execution_count": null,
   "metadata": {},
   "outputs": [],
   "source": [
    "# Gera gráfico de casos\n",
    "x = dffull['data_m'].values\n",
    "y = dffull['BRcasos'].values\n",
    "grafico_br(x, y, 'green', 'BrasilCa.png', 5000)"
   ]
  },
  {
   "cell_type": "code",
   "execution_count": null,
   "metadata": {},
   "outputs": [],
   "source": [
    "# Calcula valores de óbitos\n",
    "vmax_ob = int(dffull['BRobitos'].max())\n",
    "vhoj_ob = dffull['BRobitos'].tail(1).values[0].astype('int')\n",
    "vhmm_ob = vhoj_ob/209.5\n",
    "vhmm_ob = vhmm_ob.round(1)"
   ]
  },
  {
   "cell_type": "code",
   "execution_count": null,
   "metadata": {},
   "outputs": [],
   "source": [
    "# Calcula valores de casos\n",
    "vmax_ca = int(dffull['BRcasos'].max())\n",
    "vhoj_ca = dffull['BRcasos'].tail(1).values[0].astype('int')"
   ]
  },
  {
   "cell_type": "code",
   "execution_count": null,
   "metadata": {},
   "outputs": [],
   "source": [
    "# Formatando\n",
    "obitos_br_acumulado_f = f'{obitos_br_acumulado:,}'\n",
    "obitos_br_acumulado_f = obitos_br_acumulado_f.replace(',', '.')\n",
    "casos_br_acumulado_f = f'{casos_br_acumulado:,}'\n",
    "casos_br_acumulado_f = casos_br_acumulado_f.replace(',', '.')\n",
    "vmax_ob_f = f'{vmax_ob:,}'\n",
    "vmax_ob_f = vmax_ob_f.replace(',', '.')\n",
    "vhoj_ob_f = f'{vhoj_ob:,}'\n",
    "vhoj_ob_f = vhoj_ob_f.replace(',', '.')\n",
    "vhmm_ob_f = str(vhmm_ob)\n",
    "vhmm_ob_f = vhmm_ob_f.replace('.', ',')\n",
    "vmax_ca_f = f'{vmax_ca:,}'\n",
    "vmax_ca_f = vmax_ca_f.replace(',', '.')\n",
    "vhoj_ca_f = f'{vhoj_ca:,}'\n",
    "vhoj_ca_f = vhoj_ca_f.replace(',', '.')"
   ]
  },
  {
   "cell_type": "code",
   "execution_count": null,
   "metadata": {},
   "outputs": [],
   "source": []
  },
  {
   "cell_type": "code",
   "execution_count": null,
   "metadata": {},
   "outputs": [],
   "source": [
    "# Cria a imagem de fundo\n",
    "image = new_image('Óbitos e casos por Covid-19 no Brasil', 'Média móvel nos últimos 7 dias')"
   ]
  },
  {
   "cell_type": "code",
   "execution_count": null,
   "metadata": {},
   "outputs": [],
   "source": [
    "# Cola gráficos de óbitos e casos\n",
    "image2 = Image.open('_imagens/BrasilOb.png')\n",
    "image.paste(image2, (200,800))\n",
    "image2 = Image.open('_imagens/BrasilCa.png')\n",
    "image.paste(image2, (200,2800))"
   ]
  },
  {
   "cell_type": "code",
   "execution_count": null,
   "metadata": {},
   "outputs": [],
   "source": [
    "# Títulos\n",
    "font = ImageFont.truetype('Arial Bold.ttf', 100)\n",
    "ImageDraw.Draw(image).text((500, 600), 'Óbitos', font=font, fill=('blue'))\n",
    "ImageDraw.Draw(image).text((500, 2600), 'Casos', font=font, fill=('green'))"
   ]
  },
  {
   "cell_type": "code",
   "execution_count": null,
   "metadata": {},
   "outputs": [],
   "source": [
    "# Valores\n",
    "font = ImageFont.truetype('Arial.ttf', 80)\n",
    "ImageDraw.Draw(image).text((1700, 600), 'Pico: ' + vmax_ob_f, font=font, fill=('blue'))\n",
    "ImageDraw.Draw(image).text((3700, 600), 'Hoje: ' + vhoj_ob_f, font=font, fill=('blue'))\n",
    "ImageDraw.Draw(image).text((3560, 720), 'Hoje/MM: ' + vhmm_ob_f, font=font, fill=('red'))\n",
    "ImageDraw.Draw(image).text((3100, 1980), 'Acumulado: ' + obitos_br_acumulado_f, font=font, fill=('blue'))\n",
    "ImageDraw.Draw(image).text((1700, 2600), 'Pico: ' + vmax_ca_f, font=font, fill=('green'))\n",
    "ImageDraw.Draw(image).text((3600, 2600), 'Hoje: ' + vhoj_ca_f, font=font, fill=('green'))\n",
    "ImageDraw.Draw(image).text((3100, 4000), 'Acumulado: ' + casos_br_acumulado_f, font=font, fill=('green'))"
   ]
  },
  {
   "cell_type": "code",
   "execution_count": null,
   "metadata": {},
   "outputs": [],
   "source": [
    "# Salva imagem\n",
    "file_name = '1.BrasilGeral.png'\n",
    "image.save('_imagens/' + file_name)\n",
    "image.close()"
   ]
  },
  {
   "cell_type": "markdown",
   "metadata": {},
   "source": [
    "## 3.2. Brasil estados"
   ]
  },
  {
   "cell_type": "code",
   "execution_count": null,
   "metadata": {},
   "outputs": [],
   "source": [
    "# Função para gerar gráficos dos estados \n",
    "def grafico_estados(x, y, uf, mm):\n",
    "    fig, ax = plt.subplots(figsize=(40, 20))\n",
    "    plt.fill_between( x, y, color='blue', alpha=0.2)    \n",
    "    plt.axis('off')\n",
    "\n",
    "    plt.text(0.15, 0.6, uf, fontsize=200, color='darkslateblue', transform=fig.transFigure )\n",
    "    mm = str(mm.round(1))\n",
    "    mm = mm.replace('.', ',')\n",
    "    plt.text(0.15, 0.45, mm, fontsize=150, color='red', transform=fig.transFigure )\n",
    "    \n",
    "    plt.plot(x, y, linewidth=20, color='darkslateblue')\n",
    "    plt.savefig('_imagens/' + uf + '.png', dpi=35)\n",
    "    plt.close(fig)\n",
    "    \n",
    "    # crop da imagem\n",
    "    image = Image.open('_imagens/' + uf + '.png')\n",
    "    image = image.crop((200, 95, 1225, 600))\n",
    "    image.save('_imagens/' + uf + '.png')"
   ]
  },
  {
   "cell_type": "code",
   "execution_count": null,
   "metadata": {},
   "outputs": [],
   "source": [
    "# Gera gráficos por estado\n",
    "i = 0\n",
    "for uf in ufs: \n",
    "    td = dffull[uf].tail(1).values[0]\n",
    "    mm = td*1000000/ufspop[i]\n",
    "    x = dffull['data'].values\n",
    "    y = dffull[uf].values\n",
    "    grafico_estados(x, y, uf, mm)\n",
    "    i = i + 1"
   ]
  },
  {
   "cell_type": "code",
   "execution_count": null,
   "metadata": {},
   "outputs": [],
   "source": [
    "# Array dos estados - define a sequência em que os gráficos serão exibidos - 4 por linha\n",
    "ests = ['AC', 'AM', 'PA', 'AP', \n",
    "        'RO', 'RR', 'TO', 'MA', \n",
    "        'PI', 'CE', 'RN', 'PB', \n",
    "        'PE', 'AL', 'SE', 'BA', \n",
    "        'GO', 'DF', 'MT', 'MS', \n",
    "        'MG', 'ES', 'RJ', 'SP', \n",
    "        'PR', 'SC', 'RS']"
   ]
  },
  {
   "cell_type": "code",
   "execution_count": null,
   "metadata": {},
   "outputs": [],
   "source": []
  },
  {
   "cell_type": "code",
   "execution_count": null,
   "metadata": {},
   "outputs": [],
   "source": [
    "# Cria a imagem de fundo\n",
    "image = new_image('Óbitos por Covid-19 nos estados brasileiros', 'Média móvel nos últimos 7 dias')"
   ]
  },
  {
   "cell_type": "code",
   "execution_count": null,
   "metadata": {},
   "outputs": [],
   "source": [
    "r = 0\n",
    "c = 1\n",
    "for est in ests:\n",
    "    v = 450 + r*550\n",
    "\n",
    "    if (c == 1):\n",
    "        h = 50\n",
    "        c = 2\n",
    "    elif (c == 2):\n",
    "        h = 1175\n",
    "        c = 3\n",
    "    elif (c == 3):\n",
    "        h = 2300\n",
    "        c = 4\n",
    "    elif (c == 4):\n",
    "        h = 3425\n",
    "        c = 1\n",
    "        r = r + 1\n",
    "    \n",
    "    image2 = Image.open('_imagens/' + est + '.png')\n",
    "    image.paste(image2, (h, v))"
   ]
  },
  {
   "cell_type": "code",
   "execution_count": null,
   "metadata": {},
   "outputs": [],
   "source": [
    "# Rodapé com explicação\n",
    "font = ImageFont.truetype('Arial.ttf', 50)\n",
    "ImageDraw.Draw(image).text((2000, 4360), '(números em vermelho representam atual mortalidade por milhão por dia)', font=font, fill=(256, 0, 0))"
   ]
  },
  {
   "cell_type": "code",
   "execution_count": null,
   "metadata": {},
   "outputs": [],
   "source": [
    "# Salva imagem\n",
    "file_name = '2.BrasilEstados.png'\n",
    "image.save('_imagens/' + file_name)\n",
    "image.close()"
   ]
  },
  {
   "cell_type": "markdown",
   "metadata": {},
   "source": [
    "## 3.3. SP-RJ"
   ]
  },
  {
   "cell_type": "code",
   "execution_count": null,
   "metadata": {},
   "outputs": [],
   "source": [
    "# Função para gerar gráficos das cidades\n",
    "def grafico_cidade(x, y, cor, st, esp):\n",
    "    fig, ax = plt.subplots(figsize=(58, 30))\n",
    "    \n",
    "    plt.fill_between( x, y, color=cor, alpha=0.1) # preenche a área sob o gráfico\n",
    "    ax.tick_params(axis='both', which='major', labelsize=80) # labelsize = tamanho da fonte dos eixos x e y\n",
    "    plt.box(on=None) # remove a caixa ao redor do gráfico\n",
    "    ax.xaxis.set_major_locator(plticker.MultipleLocator(base=30)) # define o espaçamento do eixo x (horizontal)\n",
    "    ax.yaxis.set_major_locator(plticker.MultipleLocator(base=esp)) # define o espaçamento do eixo y (vertical)\n",
    "    ax.yaxis.grid() # acrescenta grid - linhas horizontais\n",
    "    \n",
    "    #plt.plot(x, y, linewidth=30, color=cor, marker='o', mfc='white', ms='18') #plota o gráfico\n",
    "    plt.plot(x, y, linewidth=30, color=cor) #plota o gráfico\n",
    "    \n",
    "    plt.savefig('_imagens/' + st + '.png', dpi=50)\n",
    "    plt.close(fig)\n",
    "    \n",
    "    # crop da imagem\n",
    "    image = Image.open('_imagens/' + st + '.png')\n",
    "    image = image.crop((263, 180, 2545, 1373))\n",
    "    image = image.resize((2050, 1046), Image.ANTIALIAS)\n",
    "    image.save('_imagens/' + st + '.png')\n",
    "    "
   ]
  },
  {
   "cell_type": "code",
   "execution_count": null,
   "metadata": {},
   "outputs": [],
   "source": [
    "# Função para calcular os indicadores da cidade\n",
    "def indicadores(st, pop, acu):\n",
    "    # calcula\n",
    "    vmax = int(dffull[st].max())\n",
    "    vhoj = dffull[st].tail(1).values[0].astype('int')\n",
    "    vmmm = vhoj * 1000000 / pop\n",
    "    vacum = acu\n",
    "    # formata\n",
    "    vmax = f'{vmax:,}'\n",
    "    vmax = vmax.replace(',', '.')\n",
    "    vhoj = f'{vhoj:,}'\n",
    "    vhoj = vhoj.replace(',', '.')\n",
    "    vacum = f'{vacum:,}'\n",
    "    vacum = vacum.replace(',', '.')\n",
    "    vmmm = str(vmmm.round(1))\n",
    "    vmmm = vmmm.replace('.', ',')\n",
    "    return [vmax, vhoj, vmmm, vacum]\n"
   ]
  },
  {
   "cell_type": "code",
   "execution_count": null,
   "metadata": {},
   "outputs": [],
   "source": [
    "# Gera gráficos\n",
    "\n",
    "x = dffull['data_m'].values\n",
    "\n",
    "st = 'SPcid'\n",
    "y = dffull[st].values\n",
    "grafico_cidade(x, y, 'blue', st, 10)\n",
    "\n",
    "st = 'SPint'\n",
    "y = dffull[st].values\n",
    "grafico_cidade(x, y, 'green', st, 20)\n",
    "\n",
    "st = 'RJcid'\n",
    "y = dffull[st].values\n",
    "grafico_cidade(x, y, 'blue', st, 15)\n",
    "\n",
    "st = 'RJint'\n",
    "y = dffull[st].values\n",
    "grafico_cidade(x, y, 'green', st, 10)"
   ]
  },
  {
   "cell_type": "code",
   "execution_count": null,
   "metadata": {},
   "outputs": [],
   "source": [
    "# População\n",
    "SPcid_populacao = 12252023\n",
    "SPest_populacao = 45919049\n",
    "RJcid_populacao = 6718903\n",
    "RJest_populacao = 17264943"
   ]
  },
  {
   "cell_type": "code",
   "execution_count": null,
   "metadata": {},
   "outputs": [],
   "source": [
    "# Calcula e formata indicadores\n",
    "SPcid = indicadores('SPcid', SPcid_populacao, SPcid_obitos)\n",
    "RJcid = indicadores('RJcid', RJcid_populacao, RJcid_obitos)\n",
    "SPint = indicadores('SPint', SPest_populacao - SPcid_populacao, SPest_obitos - SPcid_obitos)\n",
    "RJint = indicadores('RJint', RJest_populacao - RJcid_populacao, RJest_obitos - RJcid_obitos)"
   ]
  },
  {
   "cell_type": "code",
   "execution_count": null,
   "metadata": {},
   "outputs": [],
   "source": []
  },
  {
   "cell_type": "code",
   "execution_count": null,
   "metadata": {},
   "outputs": [],
   "source": [
    "# Cria a imagem de fundo\n",
    "image = new_image('Óbitos por Covid-19 em SP e RJ', 'Média móvel nos últimos 7 dias')"
   ]
  },
  {
   "cell_type": "code",
   "execution_count": null,
   "metadata": {},
   "outputs": [],
   "source": [
    "# Cola gráficos\n",
    "image2 = Image.open('_imagens/SPcid.png')\n",
    "image.paste(image2, (200,1000))\n",
    "image2 = Image.open('_imagens/SPint.png')\n",
    "image.paste(image2, (2400,1000))\n",
    "image2 = Image.open('_imagens/RJcid.png')\n",
    "image.paste(image2, (200,2700))\n",
    "image2 = Image.open('_imagens/RJint.png')\n",
    "image.paste(image2, (2400,2700))"
   ]
  },
  {
   "cell_type": "code",
   "execution_count": null,
   "metadata": {},
   "outputs": [],
   "source": [
    "# Títulos\n",
    "font = ImageFont.truetype('Arial Bold.ttf', 80)\n",
    "ImageDraw.Draw(image).text((200, 800), 'SP Capital', font=font, fill=('blue'))\n",
    "ImageDraw.Draw(image).text((2400, 800), 'SP Interior', font=font, fill=('green'))\n",
    "ImageDraw.Draw(image).text((200, 2500), 'RJ Capital', font=font, fill=('blue'))\n",
    "ImageDraw.Draw(image).text((2400, 2500), 'RJ Interior', font=font, fill=('green'))"
   ]
  },
  {
   "cell_type": "code",
   "execution_count": null,
   "metadata": {},
   "outputs": [],
   "source": [
    "# Indicadores\n",
    "font = ImageFont.truetype('Arial.ttf', 60)\n",
    "\n",
    "ImageDraw.Draw(image).text((1000, 800), 'Pico: ' + SPcid[0], font=font, fill=('blue'))\n",
    "ImageDraw.Draw(image).text((1930, 800), 'Hoje: ' + SPcid[1], font=font, fill=('blue'))\n",
    "ImageDraw.Draw(image).text((1800, 900), 'Hoje/MM: ' + SPcid[2], font=font, fill=('blue'))\n",
    "ImageDraw.Draw(image).text((1600, 1850), 'Acumulado: ' + SPcid[3], font=font, fill=('blue'))\n",
    "\n",
    "ImageDraw.Draw(image).text((3250, 800), 'Pico: ' + SPint[0], font=font, fill=('green'))\n",
    "ImageDraw.Draw(image).text((4180, 800), 'Hoje: ' + SPint[1], font=font, fill=('green'))\n",
    "ImageDraw.Draw(image).text((4050, 900), 'Hoje/MM: ' + SPint[2], font=font, fill=('green'))\n",
    "ImageDraw.Draw(image).text((3850, 1850), 'Acumulado: ' + SPint[3], font=font, fill=('green'))\n",
    "\n",
    "ImageDraw.Draw(image).text((1000, 2500), 'Pico: ' + RJcid[0], font=font, fill=('blue'))\n",
    "ImageDraw.Draw(image).text((1930, 2500), 'Hoje: ' + RJcid[1], font=font, fill=('blue'))\n",
    "ImageDraw.Draw(image).text((1800, 2600), 'Hoje/MM: ' + RJcid[2], font=font, fill=('blue'))\n",
    "ImageDraw.Draw(image).text((1600, 3550), 'Acumulado: ' + RJcid[3], font=font, fill=('blue'))\n",
    "\n",
    "ImageDraw.Draw(image).text((3250, 2500), 'Pico: ' + RJint[0], font=font, fill=('green'))\n",
    "ImageDraw.Draw(image).text((4180, 2500), 'Hoje: ' + RJint[1], font=font, fill=('green'))\n",
    "ImageDraw.Draw(image).text((4050, 2600), 'Hoje/MM: ' + RJint[2], font=font, fill=('green'))\n",
    "ImageDraw.Draw(image).text((3850, 3550), 'Acumulado: ' + RJint[3], font=font, fill=('green'))\n"
   ]
  },
  {
   "cell_type": "code",
   "execution_count": null,
   "metadata": {},
   "outputs": [],
   "source": [
    "# Salva imagem\n",
    "file_name = '3.SPRJ.png'\n",
    "image.save('_imagens/' + file_name)\n",
    "image.close()"
   ]
  },
  {
   "cell_type": "markdown",
   "metadata": {},
   "source": [
    "## 3.4. Hospitais"
   ]
  },
  {
   "cell_type": "code",
   "execution_count": null,
   "metadata": {},
   "outputs": [],
   "source": [
    "# Função para gerar gráficos dos hospitais\n",
    "def grafico_hospitais(x, y, cor, st, esp):\n",
    "    fig, ax = plt.subplots(figsize=(58, 30))\n",
    "    \n",
    "    plt.fill_between( x, y, color=cor, alpha=0.1) # preenche a área sob o gráfico\n",
    "    ax.tick_params(axis='both', which='major', labelsize=80) # labelsize = tamanho da fonte dos eixos x e y\n",
    "    plt.box(on=None) # remove a caixa ao redor do gráfico\n",
    "    ax.xaxis.set_major_locator(plticker.MultipleLocator(base=30)) # define o espaçamento do eixo x (horizontal)\n",
    "    ax.yaxis.set_major_locator(plticker.MultipleLocator(base=esp)) # define o espaçamento do eixo y (vertical)\n",
    "    ax.yaxis.grid() # acrescenta grid - linhas horizontais\n",
    "    \n",
    "    plt.plot(x, y, linewidth=30, color=cor) #plota o gráfico\n",
    "\n",
    "    plt.savefig('_imagens/hosp_' + st + '.png', dpi=50)\n",
    "    plt.close(fig)\n",
    "    \n",
    "    # crop da imagem\n",
    "    image = Image.open('_imagens/hosp_' + st + '.png')\n",
    "    image = image.crop((175, 175, 2620, 1390))\n",
    "    image = image.resize((2050, 1046), Image.ANTIALIAS)\n",
    "    image.save('_imagens/hosp_' + st + '.png')\n",
    "    "
   ]
  },
  {
   "cell_type": "code",
   "execution_count": null,
   "metadata": {},
   "outputs": [],
   "source": [
    "# remove linhas iniciais zeradas\n",
    "dfHosp = dfHosp[dfHosp['UTI_ESP'] > 0]"
   ]
  },
  {
   "cell_type": "code",
   "execution_count": null,
   "metadata": {},
   "outputs": [],
   "source": [
    "# Gera gráficos\n",
    "\n",
    "x = dfHosp['data_m'].values\n",
    "\n",
    "st = 'UTI_ESP'\n",
    "y = dfHosp[st].values\n",
    "grafico_hospitais(x, y, 'red', st, 1000)\n",
    "\n",
    "st = 'RESP'\n",
    "y = dfHosp[st].values\n",
    "grafico_hospitais(x, y, 'red', st, 200)\n",
    "\n",
    "st = 'SUSP'\n",
    "y = dfHosp[st].values\n",
    "grafico_hospitais(x, y, 'red', st, 75)\n",
    "\n",
    "st = 'INTERN'\n",
    "y = dfHosp[st].values\n",
    "grafico_hospitais(x, y, 'red', st, 250)\n",
    "\n",
    "st = 'UTI_CSP'\n",
    "y = dfHosp[st].values\n",
    "grafico_hospitais(x, y, 'red', st, 100)\n",
    "\n",
    "st = 'VENTIL'\n",
    "y = dfHosp[st].values\n",
    "grafico_hospitais(x, y, 'red', st, 75)\n",
    "\n"
   ]
  },
  {
   "cell_type": "code",
   "execution_count": null,
   "metadata": {},
   "outputs": [],
   "source": [
    "# Cria a imagem de fundo\n",
    "image = new_image('Antendimentos e internações em hospitais públicos de SP', 'Média móvel nos últimos 7 dias - Dados da Cidade de SP (exceto o primeiro gráfico)')"
   ]
  },
  {
   "cell_type": "code",
   "execution_count": null,
   "metadata": {},
   "outputs": [],
   "source": [
    "# Cola gráficos\n",
    "\n",
    "st = 'UTI_ESP'\n",
    "image2 = Image.open('_imagens/hosp_' + st + '.png')\n",
    "image.paste(image2, (100, 600))\n",
    "\n",
    "st = 'RESP'\n",
    "image2 = Image.open('_imagens/hosp_' + st + '.png')\n",
    "image.paste(image2, (2300, 600))\n",
    "\n",
    "st = 'SUSP'\n",
    "image2 = Image.open('_imagens/hosp_' + st + '.png')\n",
    "image.paste(image2, (100, 1900))\n",
    "\n",
    "st = 'INTERN'\n",
    "image2 = Image.open('_imagens/hosp_' + st + '.png')\n",
    "image.paste(image2, (2300, 1900))\n",
    "\n",
    "st = 'UTI_CSP'\n",
    "image2 = Image.open('_imagens/hosp_' + st + '.png')\n",
    "image.paste(image2, (100, 3200))\n",
    "\n",
    "st = 'VENTIL'\n",
    "image2 = Image.open('_imagens/hosp_' + st + '.png')\n",
    "image.paste(image2, (2300, 3200))"
   ]
  },
  {
   "cell_type": "code",
   "execution_count": null,
   "metadata": {},
   "outputs": [],
   "source": [
    "# Títulos\n",
    "font = ImageFont.truetype('Arial Bold.ttf', 80)\n",
    "ImageDraw.Draw(image).text((100, 450), 'Internações em UTI no Estado', font=font, fill=('red'))\n",
    "ImageDraw.Draw(image).text((2300, 450), 'Atendimentos de quadros respiratórios', font=font, fill=('red'))\n",
    "ImageDraw.Draw(image).text((100, 1750), 'Atendimentos com suspeita de Covid-19', font=font, fill=('red'))\n",
    "ImageDraw.Draw(image).text((2300, 1750), 'Pacientes totais internados', font=font, fill=('red'))\n",
    "ImageDraw.Draw(image).text((100, 3050), 'Pacientes internados em UTI', font=font, fill=('red'))\n",
    "ImageDraw.Draw(image).text((2300, 3050), 'Pacientes em ventilação mecânica', font=font, fill=('red'))"
   ]
  },
  {
   "cell_type": "code",
   "execution_count": null,
   "metadata": {},
   "outputs": [],
   "source": []
  },
  {
   "cell_type": "code",
   "execution_count": null,
   "metadata": {},
   "outputs": [],
   "source": [
    "# Salva imagem\n",
    "file_name = '4.Hospitais.png'\n",
    "image.save('_imagens/' + file_name)\n",
    "image.close()"
   ]
  },
  {
   "cell_type": "markdown",
   "metadata": {},
   "source": [
    "## 3.5. Países"
   ]
  },
  {
   "cell_type": "code",
   "execution_count": null,
   "metadata": {},
   "outputs": [],
   "source": [
    "# Função para gerar gráficos dos países \n",
    "def grafico_paises(x, y, uf, mm):\n",
    "    fig, ax = plt.subplots(figsize=(40, 20))\n",
    "    plt.fill_between( x, y, color='green', alpha=0.2)    \n",
    "    plt.axis('off')\n",
    "\n",
    "    plt.text(0.15, 0.6, uf, fontsize=200, color='green', transform=fig.transFigure )\n",
    "    mm = str(mm.round(1))\n",
    "    mm = mm.replace('.', ',')\n",
    "    plt.text(0.15, 0.45, mm, fontsize=150, color='red', transform=fig.transFigure )\n",
    "    \n",
    "    plt.plot(x, y, linewidth=20, color='green')\n",
    "    plt.savefig('_imagens/' + uf + '.png', dpi=35)\n",
    "    plt.close(fig)\n",
    "    \n",
    "    # crop da imagem\n",
    "    image = Image.open('_imagens/' + uf + '.png')\n",
    "    image = image.crop((200, 95, 1225, 600))\n",
    "    image.save('_imagens/' + uf + '.png')"
   ]
  },
  {
   "cell_type": "code",
   "execution_count": null,
   "metadata": {},
   "outputs": [],
   "source": [
    "# Array dos países - define a ordem em que serão exibidos os gráficos, 4 por linha\n",
    "# Os países nessa listas precisam estar contidos no array \"paises\"\n",
    "pss = ['Sweden', 'France', 'Spain', 'Italy', \n",
    "       'United Kingdom', 'Germany', 'Portugal', 'Switzerland', \n",
    "       'Russia', 'India', 'Israel', 'Bahrain', \n",
    "       'Japan', 'South Korea', 'Australia', 'New Zealand', \n",
    "       'South Africa', 'Egypt', 'Morocco', 'Tunisia',  \n",
    "       'Nigeria', 'Kenya', 'United States', 'Canada',\n",
    "       'Mexico', 'Chile', 'Argentina', 'Uruguay'\n",
    "]"
   ]
  },
  {
   "cell_type": "code",
   "execution_count": null,
   "metadata": {},
   "outputs": [],
   "source": [
    "# Gera gráficos por país\n",
    "for pais in paises: \n",
    "    pop = df2[df2['location'] == pais].tail(1)['population'].values[0]\n",
    "    td = dffull2[pais].tail(1).values[0]\n",
    "    mm = td*1000000/pop\n",
    "    x = dffull2['date'].values\n",
    "    y = dffull2[pais].values\n",
    "    grafico_paises(x, y, pais, mm)"
   ]
  },
  {
   "cell_type": "code",
   "execution_count": null,
   "metadata": {},
   "outputs": [],
   "source": []
  },
  {
   "cell_type": "code",
   "execution_count": null,
   "metadata": {},
   "outputs": [],
   "source": [
    "# Cria a imagem de fundo\n",
    "image = new_image('Óbitos por Covid-19 em países selecionados', 'Média móvel nos últimos 7 dias')"
   ]
  },
  {
   "cell_type": "code",
   "execution_count": null,
   "metadata": {},
   "outputs": [],
   "source": [
    "r = 0\n",
    "c = 1\n",
    "for ps in pss:\n",
    "    v = 450 + r*550\n",
    "\n",
    "    if (c == 1):\n",
    "        h = 50\n",
    "        c = 2\n",
    "    elif (c == 2):\n",
    "        h = 1175\n",
    "        c = 3\n",
    "    elif (c == 3):\n",
    "        h = 2300\n",
    "        c = 4\n",
    "    elif (c == 4):\n",
    "        h = 3425\n",
    "        c = 1\n",
    "        r = r + 1\n",
    "    \n",
    "    image2 = Image.open('_imagens/' + ps + '.png')\n",
    "    image.paste(image2, (h, v))"
   ]
  },
  {
   "cell_type": "code",
   "execution_count": null,
   "metadata": {},
   "outputs": [],
   "source": [
    "# Rodapé com explicação\n",
    "font = ImageFont.truetype('Arial.ttf', 50)\n",
    "ImageDraw.Draw(image).text((2000, 4360), '(números em vermelho representam atual mortalidade por milhão por dia)', font=font, fill=(256, 0, 0))"
   ]
  },
  {
   "cell_type": "code",
   "execution_count": null,
   "metadata": {},
   "outputs": [],
   "source": [
    "# Salva imagem\n",
    "file_name = '5.Paises.png'\n",
    "image.save('_imagens/' + file_name)\n",
    "image.close()"
   ]
  },
  {
   "cell_type": "markdown",
   "metadata": {},
   "source": [
    "## 3.6. Vacinas"
   ]
  },
  {
   "cell_type": "code",
   "execution_count": null,
   "metadata": {},
   "outputs": [],
   "source": [
    "# Função para criar as tabelas\n",
    "def tabela(table, arquivo):\n",
    "\n",
    "    # cria o objeto \n",
    "    fig, ax = plt.subplots()\n",
    "    \n",
    "    # prepara o array com o conteúdo e as cores da tabela\n",
    "    cell_text = []\n",
    "    cell_colours = []\n",
    "    i = 0\n",
    "    for index, row in table.iterrows():\n",
    "        country = row['Country']\n",
    "        rate = row['Rate']\n",
    "        rate = str(rate) + '%'\n",
    "        cell_text.append([country, rate])\n",
    "        if (i == 0):\n",
    "            cell_colours.append(['lightcyan', 'lightcyan']) # para alternar a cor das linhas\n",
    "            i = 1\n",
    "        elif (i == 1):\n",
    "            cell_colours.append(['cyan', 'cyan']) # para alternar a cor das linhas\n",
    "            i = 0\n",
    "            \n",
    "    # monta a tabela\n",
    "    tb = plt.table(\n",
    "        cellText=cell_text, \n",
    "        colLabels=['País', 'Taxa'], # título das colunas\n",
    "        colColours=['indigo']*len(cell_text), # cor do fundo cabeçalho\n",
    "        cellColours=cell_colours, # cores do fundo das células\n",
    "        colWidths=[0.5, 0.2], # largura das colunas\n",
    "        cellLoc='center', # centraliza textos em cada coluna\n",
    "        loc='center' # elimina espaços ao redor da tabela\n",
    "    )\n",
    "\n",
    "    # remove as linhas do grid\n",
    "    for cell in tb.properties()['child_artists']:\n",
    "        cell.set_linewidth(0)\n",
    "    \n",
    "    # cor e bold nos textos do cabeçalho\n",
    "    tb[(0,0)].get_text().set_color('w')\n",
    "    tb[(0,1)].get_text().set_color('w')\n",
    "    tb[(0,0)].set_text_props(fontproperties=FontProperties(weight='bold'))\n",
    "    tb[(0,1)].set_text_props(fontproperties=FontProperties(weight='bold'))\n",
    "\n",
    "    # outras configurações\n",
    "    tb.auto_set_font_size(False) # desabilita o ajuste automático da fonte\n",
    "    tb.set_fontsize(36) # tamanho da fonte\n",
    "    tb.scale(4, 6) # ajuste da largura e da altura de cada célula\n",
    "    plt.axis('off') # remove os eixos\n",
    "\n",
    "    # salva imagem com a tabela\n",
    "    plt.savefig('_imagens/' + arquivo, bbox_inches='tight', dpi=150)\n",
    "    \n",
    "    # fecha o objeto - impede sua exibição\n",
    "    plt.close(fig)"
   ]
  },
  {
   "cell_type": "code",
   "execution_count": null,
   "metadata": {},
   "outputs": [],
   "source": [
    "# Seleciona países mais adiantados\n",
    "vac2 = vac[vac['location'] != 'World']\n",
    "vac2 = vac2.tail(148)\n",
    "vac2 = vac2.sort_values(by=['total_vaccinations_per_hundred'], ascending=False)\n",
    "vac2 = vac2.rename(index=str, columns={'location': 'Country'})\n",
    "vac2 = vac2.rename(index=str, columns={'total_vaccinations_per_hundred': 'Rate'})\n",
    "vac2['Rate'] = vac2['Rate'].round(1)"
   ]
  },
  {
   "cell_type": "code",
   "execution_count": null,
   "metadata": {},
   "outputs": [],
   "source": [
    "# Gera as tabelas\n",
    "tabela(vac2.head(23), 'vacina1.png')\n",
    "tabela(vac2.tail(23), 'vacina2.png')"
   ]
  },
  {
   "cell_type": "code",
   "execution_count": null,
   "metadata": {},
   "outputs": [],
   "source": []
  },
  {
   "cell_type": "code",
   "execution_count": null,
   "metadata": {},
   "outputs": [],
   "source": [
    "# Cria a imagem de fundo\n",
    "image = new_image('Porcentagem da população vacinada contra Covid-19', 'Países mais adiantados')"
   ]
  },
  {
   "cell_type": "code",
   "execution_count": null,
   "metadata": {},
   "outputs": [],
   "source": [
    "# Cola tabelas\n",
    "image2 = Image.open('_imagens/vacina1.png')\n",
    "image.paste(image2, (200,600))\n",
    "image2 = Image.open('_imagens/vacina2.png')\n",
    "image.paste(image2, (2300,600))"
   ]
  },
  {
   "cell_type": "code",
   "execution_count": null,
   "metadata": {},
   "outputs": [],
   "source": [
    "# Salva imagem\n",
    "file_name = '6.Vacinas.png'\n",
    "image.save('_imagens/' + file_name)\n",
    "image.close()"
   ]
  },
  {
   "cell_type": "code",
   "execution_count": null,
   "metadata": {},
   "outputs": [],
   "source": []
  },
  {
   "cell_type": "code",
   "execution_count": null,
   "metadata": {},
   "outputs": [],
   "source": []
  }
 ],
 "metadata": {
  "kernelspec": {
   "display_name": "Python 3",
   "language": "python",
   "name": "python3"
  },
  "language_info": {
   "codemirror_mode": {
    "name": "ipython",
    "version": 3
   },
   "file_extension": ".py",
   "mimetype": "text/x-python",
   "name": "python",
   "nbconvert_exporter": "python",
   "pygments_lexer": "ipython3",
   "version": "3.7.3"
  }
 },
 "nbformat": 4,
 "nbformat_minor": 2
}
